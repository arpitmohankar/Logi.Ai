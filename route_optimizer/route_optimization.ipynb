{
 "cells": [
  {
   "cell_type": "code",
   "execution_count": 1,
   "id": "366b4674",
   "metadata": {},
   "outputs": [],
   "source": [
    "import requests\n",
    "import json\n",
    "from ortools.constraint_solver import routing_enums_pb2\n",
    "from ortools.constraint_solver import pywrapcp\n",
    "from datetime import datetime\n",
    "import os\n",
    "from dotenv import load_dotenv"
   ]
  },
  {
   "cell_type": "code",
   "execution_count": 2,
   "id": "199d34bb",
   "metadata": {},
   "outputs": [],
   "source": [
    "load_dotenv()\n",
    "API_KEY = os.getenv(\"GOOGLE_API_KEY\")\n",
    "if not API_KEY:\n",
    "    raise Exception(\"GOOGLE_API_KEY not found in .env file\")"
   ]
  },
  {
   "cell_type": "code",
   "execution_count": null,
   "id": "2c7dae83",
   "metadata": {},
   "outputs": [],
   "source": [
    "# geocoding the address\n",
    "def geocode_address(address, api_key):\n",
    "    url = f\"https://maps.googleapis.com/maps/api/geocode/json?address={address}&key={api_key}\"\n",
    "    response = requests.get(url)\n",
    "    data = response.json()\n",
    "    \n",
    "    if data[\"status\"] == \"OK\" and len(data[\"results\"]) > 0:\n",
    "        location = data[\"results\"][0][\"geometry\"][\"location\"]\n",
    "        return location[\"lat\"], location[\"lng\"]\n",
    "    else:\n",
    "        raise Exception(f\"Geocoding failed for {address}: {data.get('status', 'Unknown error')}\")"
   ]
  },
  {
   "cell_type": "code",
   "execution_count": null,
   "id": "7425f41f",
   "metadata": {},
   "outputs": [],
   "source": [
    "# taking weather into consideration\n",
    "def get_weather_multiplier(lat, lng, api_key):\n",
    "    url = f\"https://weather.googleapis.com/v1/current?lat={lat}&lng={lng}&key={api_key}\"\n",
    "    response = requests.get(url)\n",
    "    data = response.json()\n",
    "    \n",
    "    if \"currentConditions\" in data and len(data[\"currentConditions\"]) > 0:\n",
    "        conditions = data[\"currentConditions\"][0]\n",
    "        precip_prob = float(conditions.get(\"precipitationProbability\", 0)) / 100.0\n",
    "        precip_type = conditions.get(\"precipitationType\", [])\n",
    "        multiplier = 1.0 + 0.2 * precip_prob  \n",
    "        if \"SNOW\" in precip_type or \"FREEZING_RAIN\" in precip_type:\n",
    "            multiplier += 0.1  \n",
    "        return multiplier\n",
    "    return 1.0  "
   ]
  },
  {
   "cell_type": "code",
   "execution_count": 5,
   "id": "1e11e6c3",
   "metadata": {},
   "outputs": [],
   "source": [
    "# taking traffic into consideration based on weather\n",
    "def get_distance_matrix(locations, api_key, weather_multipliers):\n",
    "    url = \"https://maps.googleapis.com/maps/api/distancematrix/json\"\n",
    "    origins = \"|\".join([f\"{lat},{lng}\" for lat, lng in locations])\n",
    "    destinations = origins\n",
    "    params = {\n",
    "        \"origins\": origins,\n",
    "        \"destinations\": destinations,\n",
    "        \"key\": api_key,\n",
    "        \"mode\": \"driving\",\n",
    "        \"departure_time\": int(datetime.now().timestamp())  # Current time for traffic\n",
    "    }\n",
    "    response = requests.get(url, params=params)\n",
    "    data = response.json()\n",
    "    \n",
    "    if data[\"status\"] != \"OK\":\n",
    "        raise Exception(f\"API Error: {data['status']}\")\n",
    "    \n",
    "    distance_matrix = []\n",
    "    for i, row in enumerate(data[\"rows\"]):\n",
    "        row_durations = []\n",
    "        for element in row[\"elements\"]:\n",
    "            if element[\"status\"] == \"OK\":\n",
    "                duration = (element.get(\"duration_in_traffic\") or element[\"duration\"])[\"value\"]\n",
    "                adjusted_duration = int(duration * weather_multipliers[i])\n",
    "                row_durations.append(adjusted_duration)\n",
    "            else:\n",
    "                raise Exception(f\"Distance Matrix Error: {element['status']}\")\n",
    "        distance_matrix.append(row_durations)\n",
    "    return distance_matrix"
   ]
  },
  {
   "cell_type": "code",
   "execution_count": 6,
   "id": "14bb912a",
   "metadata": {},
   "outputs": [],
   "source": [
    "# vechile routing problem data model\n",
    "def create_data_model(distance_matrix, locations):\n",
    "    data = {}\n",
    "    data[\"distance_matrix\"] = distance_matrix\n",
    "    data[\"num_vehicles\"] = 1\n",
    "    data[\"warehouse\"] = 0  #starting point\n",
    "    data[\"locations\"] = locations\n",
    "    return data"
   ]
  },
  {
   "cell_type": "code",
   "execution_count": 7,
   "id": "0d965aa8",
   "metadata": {},
   "outputs": [],
   "source": [
    "# final optimal route\n",
    "def get_solution(data, manager, routing, solution):\n",
    "    route = []\n",
    "    total_time = 0\n",
    "    index = routing.Start(0)\n",
    "    while not routing.IsEnd(index):\n",
    "        node = manager.IndexToNode(index)\n",
    "        route.append(data[\"locations\"][node])\n",
    "        previous_index = index\n",
    "        index = solution.Value(routing.NextVar(index))\n",
    "        total_time += routing.GetArcCostForVehicle(previous_index, index, 0)\n",
    "    \n",
    "    print(f\"Optimal route time: {total_time / 60:.2f} minutes\")\n",
    "    print(\"Route order (node indices):\")\n",
    "    for i, loc in enumerate(route):\n",
    "        print(f\"Stop {i}: {loc}\")\n",
    "    return route"
   ]
  },
  {
   "cell_type": "code",
   "execution_count": 8,
   "id": "fb5f9c28",
   "metadata": {},
   "outputs": [],
   "source": [
    "# solving vehicle routing problem\n",
    "def solve_vrp(addresses, api_key):\n",
    "\n",
    "    # geocode addresses to lat/lng\n",
    "    locations = []\n",
    "    for address in addresses:\n",
    "        lat, lng = geocode_address(address, api_key)\n",
    "        locations.append([lat, lng])\n",
    "    \n",
    "    # fetch weather multipliers\n",
    "    weather_multipliers = []\n",
    "    for lat, lng in locations:\n",
    "        multiplier = get_weather_multiplier(lat, lng, api_key)\n",
    "        weather_multipliers.append(multiplier)\n",
    "    \n",
    "    # get adjusted distance matrix\n",
    "    distance_matrix = get_distance_matrix(locations, api_key, weather_multipliers)\n",
    "    \n",
    "    # create data model\n",
    "    data = create_data_model(distance_matrix, locations)\n",
    "    \n",
    "    # create routing index manager\n",
    "    manager = pywrapcp.RoutingIndexManager(len(data[\"distance_matrix\"]), \n",
    "                                         data[\"num_vehicles\"], \n",
    "                                         data[\"depot\"])\n",
    "    \n",
    "    # create routing model\n",
    "    routing = pywrapcp.RoutingModel(manager)\n",
    "    \n",
    "    # define cost of each arc\n",
    "    def distance_callback(from_index, to_index):\n",
    "        from_node = manager.IndexToNode(from_index)\n",
    "        to_node = manager.IndexToNode(to_index)\n",
    "        return data[\"distance_matrix\"][from_node][to_node]\n",
    "    \n",
    "    transit_callback_index = routing.RegisterTransitCallback(distance_callback)\n",
    "    routing.SetArcCostEvaluatorOfAllVehicles(transit_callback_index)\n",
    "    \n",
    "    # set search parameters\n",
    "    search_parameters = pywrapcp.DefaultRoutingSearchParameters()\n",
    "    search_parameters.first_solution_strategy = (\n",
    "        routing_enums_pb2.FirstSolutionStrategy.PATH_CHEAPEST_ARC)\n",
    "    \n",
    "    # solve the problem\n",
    "    solution = routing.SolveWithParameters(search_parameters)\n",
    "    \n",
    "    if solution:\n",
    "        return get_solution(data, manager, routing, solution)\n",
    "    else:\n",
    "        raise Exception(\"No solution found\")"
   ]
  },
  {
   "cell_type": "code",
   "execution_count": 12,
   "id": "59f4c379",
   "metadata": {},
   "outputs": [
    {
     "ename": "JSONDecodeError",
     "evalue": "Expecting value: line 1 column 1 (char 0)",
     "output_type": "error",
     "traceback": [
      "\u001b[1;31m---------------------------------------------------------------------------\u001b[0m",
      "\u001b[1;31mJSONDecodeError\u001b[0m                           Traceback (most recent call last)",
      "Cell \u001b[1;32mIn[12], line 13\u001b[0m\n\u001b[0;32m      2\u001b[0m \u001b[38;5;28;01mif\u001b[39;00m \u001b[38;5;18m__name__\u001b[39m \u001b[38;5;241m==\u001b[39m \u001b[38;5;124m\"\u001b[39m\u001b[38;5;124m__main__\u001b[39m\u001b[38;5;124m\"\u001b[39m:\n\u001b[0;32m      3\u001b[0m     \u001b[38;5;66;03m# Example addresses of Croma Stores in Vadodara (corrected)\u001b[39;00m\n\u001b[0;32m      4\u001b[0m     addresses \u001b[38;5;241m=\u001b[39m [\n\u001b[0;32m      5\u001b[0m         \u001b[38;5;124m\"\u001b[39m\u001b[38;5;124mAnkhol, Waghodia Road, Vadodara, Gujarat 390019\u001b[39m\u001b[38;5;124m\"\u001b[39m,  \u001b[38;5;66;03m# Warehouse\u001b[39;00m\n\u001b[0;32m      6\u001b[0m         \u001b[38;5;124m\"\u001b[39m\u001b[38;5;124mGlade Centrum, New VIP Road, Vadodara, Gujarat 390022\u001b[39m\u001b[38;5;124m\"\u001b[39m,  \u001b[38;5;66;03m# Croma New VIP Road\u001b[39;00m\n\u001b[1;32m   (...)\u001b[0m\n\u001b[0;32m     10\u001b[0m         \u001b[38;5;124m\"\u001b[39m\u001b[38;5;124mThe Iconic, Harni Road, Vadodara, Gujarat 390022\u001b[39m\u001b[38;5;124m\"\u001b[39m  \u001b[38;5;66;03m# Croma Harni\u001b[39;00m\n\u001b[0;32m     11\u001b[0m     ]\n\u001b[1;32m---> 13\u001b[0m     optimal_route \u001b[38;5;241m=\u001b[39m solve_vrp(addresses, API_KEY)\n",
      "Cell \u001b[1;32mIn[8], line 13\u001b[0m, in \u001b[0;36msolve_vrp\u001b[1;34m(addresses, api_key)\u001b[0m\n\u001b[0;32m     11\u001b[0m weather_multipliers \u001b[38;5;241m=\u001b[39m []\n\u001b[0;32m     12\u001b[0m \u001b[38;5;28;01mfor\u001b[39;00m lat, lng \u001b[38;5;129;01min\u001b[39;00m locations:\n\u001b[1;32m---> 13\u001b[0m     multiplier \u001b[38;5;241m=\u001b[39m get_weather_multiplier(lat, lng, api_key)\n\u001b[0;32m     14\u001b[0m     weather_multipliers\u001b[38;5;241m.\u001b[39mappend(multiplier)\n\u001b[0;32m     16\u001b[0m \u001b[38;5;66;03m# get adjusted distance matrix\u001b[39;00m\n",
      "Cell \u001b[1;32mIn[4], line 5\u001b[0m, in \u001b[0;36mget_weather_multiplier\u001b[1;34m(lat, lng, api_key)\u001b[0m\n\u001b[0;32m      3\u001b[0m url \u001b[38;5;241m=\u001b[39m \u001b[38;5;124mf\u001b[39m\u001b[38;5;124m\"\u001b[39m\u001b[38;5;124mhttps://weather.googleapis.com/v1/current?lat=\u001b[39m\u001b[38;5;132;01m{\u001b[39;00mlat\u001b[38;5;132;01m}\u001b[39;00m\u001b[38;5;124m&lng=\u001b[39m\u001b[38;5;132;01m{\u001b[39;00mlng\u001b[38;5;132;01m}\u001b[39;00m\u001b[38;5;124m&key=\u001b[39m\u001b[38;5;132;01m{\u001b[39;00mapi_key\u001b[38;5;132;01m}\u001b[39;00m\u001b[38;5;124m\"\u001b[39m\n\u001b[0;32m      4\u001b[0m response \u001b[38;5;241m=\u001b[39m requests\u001b[38;5;241m.\u001b[39mget(url)\n\u001b[1;32m----> 5\u001b[0m data \u001b[38;5;241m=\u001b[39m response\u001b[38;5;241m.\u001b[39mjson()\n\u001b[0;32m      7\u001b[0m \u001b[38;5;28;01mif\u001b[39;00m \u001b[38;5;124m\"\u001b[39m\u001b[38;5;124mcurrentConditions\u001b[39m\u001b[38;5;124m\"\u001b[39m \u001b[38;5;129;01min\u001b[39;00m data \u001b[38;5;129;01mand\u001b[39;00m \u001b[38;5;28mlen\u001b[39m(data[\u001b[38;5;124m\"\u001b[39m\u001b[38;5;124mcurrentConditions\u001b[39m\u001b[38;5;124m\"\u001b[39m]) \u001b[38;5;241m>\u001b[39m \u001b[38;5;241m0\u001b[39m:\n\u001b[0;32m      8\u001b[0m     conditions \u001b[38;5;241m=\u001b[39m data[\u001b[38;5;124m\"\u001b[39m\u001b[38;5;124mcurrentConditions\u001b[39m\u001b[38;5;124m\"\u001b[39m][\u001b[38;5;241m0\u001b[39m]\n",
      "File \u001b[1;32mc:\\Users\\juika\\anaconda3\\Lib\\site-packages\\requests\\models.py:910\u001b[0m, in \u001b[0;36mResponse.json\u001b[1;34m(self, **kwargs)\u001b[0m\n\u001b[0;32m    904\u001b[0m         \u001b[38;5;28;01mexcept\u001b[39;00m \u001b[38;5;167;01mUnicodeDecodeError\u001b[39;00m:\n\u001b[0;32m    905\u001b[0m             \u001b[38;5;66;03m# Wrong UTF codec detected; usually because it's not UTF-8\u001b[39;00m\n\u001b[0;32m    906\u001b[0m             \u001b[38;5;66;03m# but some other 8-bit codec.  This is an RFC violation,\u001b[39;00m\n\u001b[0;32m    907\u001b[0m             \u001b[38;5;66;03m# and the server didn't bother to tell us what codec *was*\u001b[39;00m\n\u001b[0;32m    908\u001b[0m             \u001b[38;5;66;03m# used.\u001b[39;00m\n\u001b[0;32m    909\u001b[0m             \u001b[38;5;28;01mpass\u001b[39;00m\n\u001b[1;32m--> 910\u001b[0m \u001b[38;5;28;01mreturn\u001b[39;00m complexjson\u001b[38;5;241m.\u001b[39mloads(\u001b[38;5;28mself\u001b[39m\u001b[38;5;241m.\u001b[39mtext, \u001b[38;5;241m*\u001b[39m\u001b[38;5;241m*\u001b[39mkwargs)\n",
      "File \u001b[1;32mc:\\Users\\juika\\anaconda3\\Lib\\json\\__init__.py:346\u001b[0m, in \u001b[0;36mloads\u001b[1;34m(s, cls, object_hook, parse_float, parse_int, parse_constant, object_pairs_hook, **kw)\u001b[0m\n\u001b[0;32m    341\u001b[0m     s \u001b[38;5;241m=\u001b[39m s\u001b[38;5;241m.\u001b[39mdecode(detect_encoding(s), \u001b[38;5;124m'\u001b[39m\u001b[38;5;124msurrogatepass\u001b[39m\u001b[38;5;124m'\u001b[39m)\n\u001b[0;32m    343\u001b[0m \u001b[38;5;28;01mif\u001b[39;00m (\u001b[38;5;28mcls\u001b[39m \u001b[38;5;129;01mis\u001b[39;00m \u001b[38;5;28;01mNone\u001b[39;00m \u001b[38;5;129;01mand\u001b[39;00m object_hook \u001b[38;5;129;01mis\u001b[39;00m \u001b[38;5;28;01mNone\u001b[39;00m \u001b[38;5;129;01mand\u001b[39;00m\n\u001b[0;32m    344\u001b[0m         parse_int \u001b[38;5;129;01mis\u001b[39;00m \u001b[38;5;28;01mNone\u001b[39;00m \u001b[38;5;129;01mand\u001b[39;00m parse_float \u001b[38;5;129;01mis\u001b[39;00m \u001b[38;5;28;01mNone\u001b[39;00m \u001b[38;5;129;01mand\u001b[39;00m\n\u001b[0;32m    345\u001b[0m         parse_constant \u001b[38;5;129;01mis\u001b[39;00m \u001b[38;5;28;01mNone\u001b[39;00m \u001b[38;5;129;01mand\u001b[39;00m object_pairs_hook \u001b[38;5;129;01mis\u001b[39;00m \u001b[38;5;28;01mNone\u001b[39;00m \u001b[38;5;129;01mand\u001b[39;00m \u001b[38;5;129;01mnot\u001b[39;00m kw):\n\u001b[1;32m--> 346\u001b[0m     \u001b[38;5;28;01mreturn\u001b[39;00m _default_decoder\u001b[38;5;241m.\u001b[39mdecode(s)\n\u001b[0;32m    347\u001b[0m \u001b[38;5;28;01mif\u001b[39;00m \u001b[38;5;28mcls\u001b[39m \u001b[38;5;129;01mis\u001b[39;00m \u001b[38;5;28;01mNone\u001b[39;00m:\n\u001b[0;32m    348\u001b[0m     \u001b[38;5;28mcls\u001b[39m \u001b[38;5;241m=\u001b[39m JSONDecoder\n",
      "File \u001b[1;32mc:\\Users\\juika\\anaconda3\\Lib\\json\\decoder.py:337\u001b[0m, in \u001b[0;36mJSONDecoder.decode\u001b[1;34m(self, s, _w)\u001b[0m\n\u001b[0;32m    332\u001b[0m \u001b[38;5;28;01mdef\u001b[39;00m \u001b[38;5;21mdecode\u001b[39m(\u001b[38;5;28mself\u001b[39m, s, _w\u001b[38;5;241m=\u001b[39mWHITESPACE\u001b[38;5;241m.\u001b[39mmatch):\n\u001b[0;32m    333\u001b[0m \u001b[38;5;250m    \u001b[39m\u001b[38;5;124;03m\"\"\"Return the Python representation of ``s`` (a ``str`` instance\u001b[39;00m\n\u001b[0;32m    334\u001b[0m \u001b[38;5;124;03m    containing a JSON document).\u001b[39;00m\n\u001b[0;32m    335\u001b[0m \n\u001b[0;32m    336\u001b[0m \u001b[38;5;124;03m    \"\"\"\u001b[39;00m\n\u001b[1;32m--> 337\u001b[0m     obj, end \u001b[38;5;241m=\u001b[39m \u001b[38;5;28mself\u001b[39m\u001b[38;5;241m.\u001b[39mraw_decode(s, idx\u001b[38;5;241m=\u001b[39m_w(s, \u001b[38;5;241m0\u001b[39m)\u001b[38;5;241m.\u001b[39mend())\n\u001b[0;32m    338\u001b[0m     end \u001b[38;5;241m=\u001b[39m _w(s, end)\u001b[38;5;241m.\u001b[39mend()\n\u001b[0;32m    339\u001b[0m     \u001b[38;5;28;01mif\u001b[39;00m end \u001b[38;5;241m!=\u001b[39m \u001b[38;5;28mlen\u001b[39m(s):\n",
      "File \u001b[1;32mc:\\Users\\juika\\anaconda3\\Lib\\json\\decoder.py:355\u001b[0m, in \u001b[0;36mJSONDecoder.raw_decode\u001b[1;34m(self, s, idx)\u001b[0m\n\u001b[0;32m    353\u001b[0m     obj, end \u001b[38;5;241m=\u001b[39m \u001b[38;5;28mself\u001b[39m\u001b[38;5;241m.\u001b[39mscan_once(s, idx)\n\u001b[0;32m    354\u001b[0m \u001b[38;5;28;01mexcept\u001b[39;00m \u001b[38;5;167;01mStopIteration\u001b[39;00m \u001b[38;5;28;01mas\u001b[39;00m err:\n\u001b[1;32m--> 355\u001b[0m     \u001b[38;5;28;01mraise\u001b[39;00m JSONDecodeError(\u001b[38;5;124m\"\u001b[39m\u001b[38;5;124mExpecting value\u001b[39m\u001b[38;5;124m\"\u001b[39m, s, err\u001b[38;5;241m.\u001b[39mvalue) \u001b[38;5;28;01mfrom\u001b[39;00m \u001b[38;5;28;01mNone\u001b[39;00m\n\u001b[0;32m    356\u001b[0m \u001b[38;5;28;01mreturn\u001b[39;00m obj, end\n",
      "\u001b[1;31mJSONDecodeError\u001b[0m: Expecting value: line 1 column 1 (char 0)"
     ]
    }
   ],
   "source": [
    "# Cell 8: Example usage\n",
    "if __name__ == \"__main__\":\n",
    "    # Example addresses of Croma Stores in Vadodara (corrected)\n",
    "    addresses = [\n",
    "        \"Ankhol, Waghodia Road, Vadodara, Gujarat 390019\",  # Warehouse\n",
    "        \"Glade Centrum, New VIP Road, Vadodara, Gujarat 390022\",  # Croma New VIP Road\n",
    "        \"Sakar Whizzo, Lalbaug Road, Manjalpur, Vadodara, Gujarat 390011\",  # Croma Manjalpur\n",
    "        \"Centre Square Mall, Sarabhai Road, Subhanpura, Vadodara, Gujarat 390007\",  # Croma Subhanpura\n",
    "        \"Bricklane, VIP Road, Karelibagh, Vadodara, Gujarat 390018\",  # Croma Karelibagh\n",
    "        \"The Iconic, Harni Road, Vadodara, Gujarat 390022\"  # Croma Harni\n",
    "    ]\n",
    "    \n",
    "    optimal_route = solve_vrp(addresses, API_KEY)"
   ]
  }
 ],
 "metadata": {
  "kernelspec": {
   "display_name": "base",
   "language": "python",
   "name": "python3"
  },
  "language_info": {
   "codemirror_mode": {
    "name": "ipython",
    "version": 3
   },
   "file_extension": ".py",
   "mimetype": "text/x-python",
   "name": "python",
   "nbconvert_exporter": "python",
   "pygments_lexer": "ipython3",
   "version": "3.12.7"
  }
 },
 "nbformat": 4,
 "nbformat_minor": 5
}
